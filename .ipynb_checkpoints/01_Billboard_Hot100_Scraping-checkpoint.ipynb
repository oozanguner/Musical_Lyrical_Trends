{
 "cells": [
  {
   "cell_type": "markdown",
   "metadata": {},
   "source": [
    "# Analysis of Musical and Lyrical Trends at Intelligent Interactive Systems (MIIS)\n",
    "\n",
    "#### Oktay Ozan Güner   -  ID : OZAN_ID\n",
    "#### Juan Miguel Alfonso Habana   -  ID : MIGUEL_ID\n",
    "\n",
    "# Introduction\n",
    "\n",
    "Since 1990, the way people interact with music has evolved significantly. This period marks a transition from the tangible, physical media of CDs and vinyl to the intangible, yet infinitely accessible world of digital music. \n",
    "* How digitalization and streaming have influenced listeners? \n",
    "* How the listening habits have changed over time?\n",
    "\n",
    "We'll examine how our music listening habits have been affected from duration of the songs to the way sentiment of the lyrics.\n"
   ]
  },
  {
   "cell_type": "code",
   "execution_count": 1,
   "metadata": {
    "executionInfo": {
     "elapsed": 600,
     "status": "ok",
     "timestamp": 1708672471412,
     "user": {
      "displayName": "OKTAY OZAN GÜNER",
      "userId": "13095987371025040400"
     },
     "user_tz": -60
    },
    "id": "4qhEd5xYgDNq"
   },
   "outputs": [],
   "source": [
    "## DOWNLOADING PACKAGES\n",
    "#!pip install bs4\n",
    "#!pip install datetime"
   ]
  },
  {
   "cell_type": "code",
   "execution_count": 2,
   "metadata": {
    "executionInfo": {
     "elapsed": 5,
     "status": "ok",
     "timestamp": 1708672474443,
     "user": {
      "displayName": "OKTAY OZAN GÜNER",
      "userId": "13095987371025040400"
     },
     "user_tz": -60
    },
    "id": "2GHmbaFGgd0y"
   },
   "outputs": [],
   "source": [
    "# Importing the packages that we need\n",
    "from datetime import datetime, timedelta\n",
    "import random\n",
    "import time\n",
    "import pandas as pd\n",
    "from warnings import filterwarnings\n",
    "\n",
    "filterwarnings(\"ignore\")"
   ]
  },
  {
   "cell_type": "code",
   "execution_count": 5,
   "metadata": {
    "executionInfo": {
     "elapsed": 3,
     "status": "ok",
     "timestamp": 1708672478340,
     "user": {
      "displayName": "OKTAY OZAN GÜNER",
      "userId": "13095987371025040400"
     },
     "user_tz": -60
    },
    "id": "q1PnAJ4Pi2wv"
   },
   "outputs": [],
   "source": [
    "def find_dates(start_date, end_date):\n",
    "  from datetime import datetime, timedelta\n",
    "  \"\"\"\n",
    "  Collecting the weeks between 1960 up to now.\n",
    "  \"\"\"\n",
    "  # Start date\n",
    "  start_date = start_date - timedelta(days=7)\n",
    "  start_weekday = start_date.weekday()\n",
    "\n",
    "  # Find the first day after the start date\n",
    "  days_until_sunday = (start_weekday - start_date.weekday() + 7) % 7\n",
    "  first_date = start_date + timedelta(days=days_until_sunday)\n",
    "\n",
    "  dates = []\n",
    "  # Loop from the first date until the end date\n",
    "  current_date = first_date\n",
    "  while current_date <= end_date:\n",
    "\n",
    "      current_date += timedelta(days=7)\n",
    "      current_date_str = current_date.strftime(\"%Y-%m-%d\")\n",
    "      dates.append(current_date_str)\n",
    "\n",
    "  return dates\n",
    "\n"
   ]
  },
  {
   "cell_type": "code",
   "execution_count": 6,
   "metadata": {
    "executionInfo": {
     "elapsed": 4,
     "status": "ok",
     "timestamp": 1708672480773,
     "user": {
      "displayName": "OKTAY OZAN GÜNER",
      "userId": "13095987371025040400"
     },
     "user_tz": -60
    },
    "id": "kaAkYyOZgj_X"
   },
   "outputs": [],
   "source": [
    "# At the beginning, start date is determined as 1960, after computing limitation, we had to filter since 1990. \n",
    "start_date = datetime(1960, 1, 1)\n",
    "end_date = datetime.now()\n",
    "all_dates_str = find_dates(start_date, end_date)  # Getting all dates since start date until end date."
   ]
  },
  {
   "cell_type": "code",
   "execution_count": 19,
   "metadata": {
    "executionInfo": {
     "elapsed": 204,
     "status": "ok",
     "timestamp": 1708672710643,
     "user": {
      "displayName": "OKTAY OZAN GÜNER",
      "userId": "13095987371025040400"
     },
     "user_tz": -60
    },
    "id": "bT6lkgScg1mA"
   },
   "outputs": [],
   "source": [
    "# The URL that we scraped\n",
    "base_url = 'https://www.billboard.com/charts/hot-100/'"
   ]
  },
  {
   "cell_type": "code",
   "execution_count": null,
   "metadata": {
    "colab": {
     "base_uri": "https://localhost:8080/",
     "height": 1000
    },
    "executionInfo": {
     "elapsed": 8022025,
     "status": "error",
     "timestamp": 1708645992328,
     "user": {
      "displayName": "OKTAY OZAN GÜNER",
      "userId": "13095987371025040400"
     },
     "user_tz": -60
    },
    "id": "6PmG723plKo6",
    "outputId": "8978a431-0896-4988-8459-e57bd24916ce"
   },
   "outputs": [],
   "source": [
    "# We examined which elements of the url are usable to scrape hot 100 lists. After finding appropriate elements, then we were able to scrape.\n",
    "\n",
    "import requests\n",
    "from bs4 import BeautifulSoup\n",
    "\n",
    "start_time = time.time()  # Measuring processing time\n",
    "\n",
    "df = pd.DataFrame()\n",
    "for d in all_dates_str:\n",
    "  print(d)\n",
    "  rand_int = random.randint(1, 5)\n",
    "  time.sleep(rand_int)\n",
    "  url = f'{base_url}{d}/'\n",
    "\n",
    "  response = requests.get(url)\n",
    "\n",
    "  if response.status_code == 200:\n",
    "      soup = BeautifulSoup(response.text, 'html.parser')\n",
    "      pos_divs = soup.find_all(\"div\", {\"class\":\"o-chart-results-list-row-container\"})\n",
    "      artist_divs = soup.find_all(\"ul\", {\"class\":\"lrv-a-unstyle-list lrv-u-flex lrv-u-height-100p lrv-u-flex-direction-column@mobile-max\"})\n",
    "      date_list =[]\n",
    "      pos_list = []\n",
    "      for div in pos_divs:\n",
    "        date_list.append(d)\n",
    "        current_week = div.find('span').get_text().strip()\n",
    "        pos_list.append(current_week)\n",
    "\n",
    "      artist_list=[]\n",
    "      song_list=[]\n",
    "      for div in artist_divs:\n",
    "        artist_name = div.find('span').get_text().strip()\n",
    "        song_name = div.find('h3').get_text().strip()\n",
    "        song_list.append(song_name)\n",
    "        artist_list.append(artist_name)\n",
    "  else:\n",
    "    print(f\"{response.status_code}\")\n",
    "\n",
    "  zipped_list = list(zip(date_list, pos_list, artist_list, song_list))\n",
    "\n",
    "  temp_df = pd.DataFrame(zipped_list, columns = [\"Week\", \"Position\", \"Artist_Name\", \"Song\"])\n",
    "  df = df.append(temp_df, ignore_index=True)\n",
    "\n",
    "end_time = time.time()\n",
    "\n",
    "processing_time = end_time - start_time\n",
    "print(f\"Processing time: {processing_time} seconds\")"
   ]
  },
  {
   "cell_type": "code",
   "execution_count": 41,
   "metadata": {
    "executionInfo": {
     "elapsed": 214,
     "status": "ok",
     "timestamp": 1708685318601,
     "user": {
      "displayName": "OKTAY OZAN GÜNER",
      "userId": "13095987371025040400"
     },
     "user_tz": -60
    },
    "id": "-1z4-0WhjoqU"
   },
   "outputs": [],
   "source": [
    "# Saving the hot 100 charts into a csv file\n",
    "path_name = \"Billboard_Lists_1960-01-01_2024-02-23.csv\"\n",
    "#df.to_csv(path_name)"
   ]
  }
 ],
 "metadata": {
  "colab": {
   "authorship_tag": "ABX9TyMIXxTG7K0X7DdgOCBafWDz",
   "provenance": []
  },
  "kernelspec": {
   "display_name": "Python 3",
   "language": "python",
   "name": "python3"
  },
  "language_info": {
   "codemirror_mode": {
    "name": "ipython",
    "version": 3
   },
   "file_extension": ".py",
   "mimetype": "text/x-python",
   "name": "python",
   "nbconvert_exporter": "python",
   "pygments_lexer": "ipython3",
   "version": "3.8.3"
  }
 },
 "nbformat": 4,
 "nbformat_minor": 4
}
