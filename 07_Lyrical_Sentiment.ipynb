{
 "cells": [
  {
   "cell_type": "markdown",
   "metadata": {},
   "source": [
    "# Analysis of Musical and Lyrical Trends at Intelligent Interactive Systems (MIIS)\n",
    "\n",
    "#### Oktay Ozan Güner   -  ID : OZAN_ID\n",
    "#### Juan Miguel Alfonso Habana   -  ID : MIGUEL_ID\n",
    "\n",
    "# Introduction\n",
    "\n",
    "Since 1990, the way people interact with music has evolved significantly. This period marks a transition from the tangible, physical media of CDs and vinyl to the intangible, yet infinitely accessible world of digital music. \n",
    "* How digitalization and streaming have influenced listeners? \n",
    "* How the listening habits have changed over time?\n",
    "\n",
    "We'll examine how our music listening habits have been affected from duration of the songs to the way sentiment of the lyrics.\n"
   ]
  },
  {
   "cell_type": "code",
   "execution_count": 1,
   "metadata": {},
   "outputs": [],
   "source": [
    "import numpy as np\n",
    "import pandas as pd\n",
    "\n",
    "import spacy\n",
    "import asent\n",
    "\n",
    "import tweetnlp\n",
    "\n",
    "from tqdm import tqdm\n",
    "\n",
    "\n",
    "tqdm.pandas()"
   ]
  },
  {
   "cell_type": "code",
   "execution_count": null,
   "metadata": {},
   "outputs": [],
   "source": [
    "lyrics = pd.read_csv('./Final_Data_20240309.csv')"
   ]
  },
  {
   "cell_type": "code",
   "execution_count": null,
   "metadata": {},
   "outputs": [],
   "source": [
    "class SentimentAnalyzer():\n",
    "  def __init__(self):\n",
    "    self.nlp = spacy.blank('en')\n",
    "    self.nlp.add_pipe('sentencizer')\n",
    "    self.nlp.add_pipe('asent_en_v1')\n",
    "\n",
    "    self.model = tweetnlp.load_model('sentiment')\n",
    "\n",
    "  def extract_sentiment_scores(self,text):\n",
    "    doc = self.nlp(text)\n",
    "    output = {'ascent_'+ output.split('=')[0]:output.split('=')[1] for output in str(doc._.polarity).split(' ')}\n",
    "    sentiment = self.model.sentiment(text, return_probability=True)\n",
    "    output['tweetnlp_label'] = sentiment['label']\n",
    "    output['tweetnlp_neg'] = sentiment['probability']['negative']\n",
    "    output['tweetnlp_neu'] = sentiment['probability']['neutral']\n",
    "    output['tweetnlp_pos'] = sentiment['probability']['positive']\n",
    "\n",
    "    return output"
   ]
  },
  {
   "cell_type": "code",
   "execution_count": null,
   "metadata": {},
   "outputs": [],
   "source": [
    "sa = SentimentAnalyzer()\n",
    "\n",
    "lyrics_sentiment = lyrics.progress_apply(lambda x: sa.extract_sentiment_scores(x['Translated_Lyrics_2']), axis='columns', result_type='expand')\n",
    "lyrics = pd.concat([lyrics, lyrics_sentiment], axis='columns')\n",
    "lyrics = lyrics.drop(labels='Unnamed: 0', axis=1)\n",
    "lyrics.to_csv('lyrics_sentiment.csv', index=False)\n"
   ]
  }
 ],
 "metadata": {
  "kernelspec": {
   "display_name": "lyrics",
   "language": "python",
   "name": "python3"
  },
  "language_info": {
   "codemirror_mode": {
    "name": "ipython",
    "version": 3
   },
   "file_extension": ".py",
   "mimetype": "text/x-python",
   "name": "python",
   "nbconvert_exporter": "python",
   "pygments_lexer": "ipython3",
   "version": "3.9.18"
  }
 },
 "nbformat": 4,
 "nbformat_minor": 2
}
