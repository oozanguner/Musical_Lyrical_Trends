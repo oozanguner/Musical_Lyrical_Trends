{
 "cells": [
  {
   "cell_type": "markdown",
   "metadata": {},
   "source": [
    "# Analysis of Musical and Lyrical Trends at Intelligent Interactive Systems (MIIS)\n",
    "\n",
    "#### Oktay Ozan Güner   -  ID : OZAN_ID\n",
    "#### Juan Miguel Alfonso Habana   -  ID : MIGUEL_ID\n",
    "\n",
    "# Introduction\n",
    "\n",
    "Since 1990, the way people interact with music has evolved significantly. This period marks a transition from the tangible, physical media of CDs and vinyl to the intangible, yet infinitely accessible world of digital music. \n",
    "* How digitalization and streaming have influenced listeners? \n",
    "* How the listening habits have changed over time?\n",
    "\n",
    "We'll examine how our music listening habits have been affected from duration of the songs to the way sentiment of the lyrics.\n"
   ]
  },
  {
   "cell_type": "code",
   "execution_count": 1,
   "metadata": {},
   "outputs": [
    {
     "data": {
      "text/plain": [
       "False"
      ]
     },
     "execution_count": 1,
     "metadata": {},
     "output_type": "execute_result"
    }
   ],
   "source": [
    "# import packages\n",
    "\n",
    "import spotipy\n",
    "from spotipy.oauth2 import SpotifyClientCredentials\n",
    "import pandas as pd\n",
    "from tqdm.notebook import tqdm\n",
    "import time\n",
    "import os\n",
    "from dotenv import load_dotenv\n",
    "import fastparquet as fp\n",
    "\n",
    "load_dotenv()"
   ]
  },
  {
   "cell_type": "markdown",
   "metadata": {},
   "source": [
    "## Extract Track Information"
   ]
  },
  {
   "cell_type": "code",
   "execution_count": 5,
   "metadata": {},
   "outputs": [],
   "source": [
    "# Load the billboard list of songs\n",
    "\n",
    "df = pd.read_csv('../Billboard_Lists_1960-01-01_2024-02-23.csv')\n",
    "\n",
    "# Modify the date format to a time data type\n",
    "df['Week'] = pd.to_datetime(df['Week'])\n",
    "filtered_df = df[df['Week'].dt.year >= 1990]"
   ]
  },
  {
   "cell_type": "code",
   "execution_count": 6,
   "metadata": {},
   "outputs": [],
   "source": [
    "# generate a list of queries using the artist name and song\n",
    "query_list = filtered_df.groupby(['Artist_Name', 'Song']).size().reset_index(name='count').apply(lambda x: x['Artist_Name'] + \"|\" + x['Song'], axis = 1).tolist()"
   ]
  },
  {
   "cell_type": "code",
   "execution_count": 7,
   "metadata": {},
   "outputs": [],
   "source": [
    "# function to iteratively extract the track information from the query list\n",
    "def extract_track_information(query_list:list, client_id:str, client_secret:str, file_name:str, batch_size:int=500):\n",
    "  \n",
    "  sp = spotipy.Spotify(auth_manager=SpotifyClientCredentials(client_id=client_id, client_secret=client_secret), requests_timeout=10, retries=10)\n",
    "\n",
    "  output = []\n",
    "  initial_iter = True\n",
    "\n",
    "  for index, query in enumerate(tqdm(query_list)):\n",
    "      results = sp.search(q=query, limit = 20)\n",
    "\n",
    "      track = {}\n",
    "      track['query'] = query\n",
    "\n",
    "      if len(results['tracks']['items']) > 0:\n",
    "        result = results['tracks']['items'][0]\n",
    "        artists = [r['name'].lower() for r in result['artists']]\n",
    "        artist_ids = [r['id'] for r in result['artists']]\n",
    "\n",
    "        # basic track features\n",
    "        track['id'] = result['uri'].split(':')[2]\n",
    "        track['album_release_date'] = result['album']['release_date']\n",
    "        track['artist'] = artists\n",
    "        track['artist_ids'] = artist_ids\n",
    "        track['title'] = result['name']\n",
    "        track['popularity'] = result['popularity']\n",
    "      \n",
    "      else:\n",
    "        track['id'] = None\n",
    "        track['album_release_date'] = None\n",
    "        track['artist'] = None\n",
    "        track['artist_ids'] = None\n",
    "        track['title'] = None\n",
    "        track['popularity'] = None\n",
    "      \n",
    "      output.append(track)\n",
    "\n",
    "      if index % batch_size == 0:\n",
    "        i = 0 if index <= batch_size else index/batch_size -1\n",
    "        df = pd.DataFrame(output[int(i)*batch_size:])\n",
    "        if initial_iter:\n",
    "            fp.write(f'./data/{file_name}', df, file_scheme='simple', write_index=False, times='int96', compression='SNAPPY', has_nulls=True)\n",
    "            initial_iter = False\n",
    "        else:\n",
    "            fp.write(f'./data/{file_name}', df, file_scheme='simple', write_index=False, times='int96', compression='SNAPPY', has_nulls=True, append=True)\n",
    "\n",
    "  return pd.DataFrame(output)\n",
    "\n"
   ]
  },
  {
   "cell_type": "code",
   "execution_count": null,
   "metadata": {},
   "outputs": [],
   "source": [
    "client_id = os.getenv(\"SPOTIFY_CLIENT_ID\")\n",
    "client_secret = os.getenv(\"SPOTIFY_CLIENT_SECRET\")     \n",
    "\n",
    "song_info_df = extract_track_information(query_list, client_id, client_secret, 'track_info_full_p3.parquet')"
   ]
  },
  {
   "cell_type": "code",
   "execution_count": null,
   "metadata": {},
   "outputs": [],
   "source": [
    "# Merge the resulting track files into one dataframe\n",
    "# Had to run the extraction script multiple times due to request timeouts and rate limits\n",
    "track_info = pd.read_parquet('./data/track_info.parquet')\n",
    "track_info2 = pd.read_parquet('./data/track_info_p2.parquet')\n",
    "track_info3 = pd.read_parquet('./data/track_info_p3.parquet')\n",
    "\n",
    "track_df = pd.concat([track_info, track_info2]).reset_index()\n",
    "track_df = pd.concat([track_df, track_info3]).reset_index()"
   ]
  },
  {
   "cell_type": "code",
   "execution_count": null,
   "metadata": {},
   "outputs": [],
   "source": [
    "# save data to CSV\n",
    "track_df.to_csv('track_info.csv')"
   ]
  },
  {
   "cell_type": "code",
   "execution_count": null,
   "metadata": {},
   "outputs": [],
   "source": [
    "# Convert all the track IDs into a list\n",
    "track_ids = track_df['id'].to_list()"
   ]
  },
  {
   "cell_type": "code",
   "execution_count": null,
   "metadata": {},
   "outputs": [],
   "source": [
    "def extract_audio_features(track_ids:list, client_id:str, client_secret:str, file_name:str):\n",
    "    sp = spotipy.Spotify(auth_manager=SpotifyClientCredentials(client_id=client_id, client_secret=client_secret), requests_timeout=10, retries=10)\n",
    "\n",
    "    initial_iter = True\n",
    "    batch_ids = [track_ids[i:i+100] for i in range(0, len(track_ids), 100)]\n",
    "    for batch_id in tqdm(batch_ids):\n",
    "        audio_features = sp.audio_features(batch_id)\n",
    "        af_df = pd.DataFrame(audio_features)\n",
    "\n",
    "        key_conversion = { -1:None, 0:'C', 1:'C#', 2:'D', 3:'D#', 4:'E', 5:'F', 6:'F#', 7:'G', 8:'G#', 9:'A', 10:'A#', 11:'B' }\n",
    "        mode_conversion = { 0: 'minor', 1: 'major' }\n",
    "\n",
    "        af_df['key'] = af_df['key'].apply(lambda x: key_conversion[x])\n",
    "        af_df['mode']  = af_df['mode'].apply(lambda x: mode_conversion[x])\n",
    "        \n",
    "        if initial_iter:\n",
    "            fp.write(f'./data/{file_name}', af_df, file_scheme='simple', write_index=False, times='int96', compression='SNAPPY', has_nulls=True)\n",
    "            initial_iter = False\n",
    "        else:\n",
    "            fp.write(f'./data/{file_name}', af_df, file_scheme='simple', write_index=False, times='int96', compression='SNAPPY', has_nulls=True, append=True)\n",
    "\n"
   ]
  },
  {
   "cell_type": "code",
   "execution_count": null,
   "metadata": {},
   "outputs": [],
   "source": [
    "audio_features_df = extract_audio_features(track_ids, client_id, client_secret, 'audio_features.parquet')"
   ]
  },
  {
   "cell_type": "code",
   "execution_count": null,
   "metadata": {},
   "outputs": [],
   "source": []
  }
 ],
 "metadata": {
  "kernelspec": {
   "display_name": "venv",
   "language": "python",
   "name": "python3"
  },
  "language_info": {
   "codemirror_mode": {
    "name": "ipython",
    "version": 3
   },
   "file_extension": ".py",
   "mimetype": "text/x-python",
   "name": "python",
   "nbconvert_exporter": "python",
   "pygments_lexer": "ipython3",
   "version": "3.9.18"
  }
 },
 "nbformat": 4,
 "nbformat_minor": 2
}
